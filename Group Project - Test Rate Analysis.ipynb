{
 "cells": [
  {
   "cell_type": "code",
   "execution_count": 365,
   "metadata": {},
   "outputs": [],
   "source": [
    "import pandas as pd\n",
    "import matplotlib.pyplot as plt"
   ]
  },
  {
   "cell_type": "code",
   "execution_count": 367,
   "metadata": {},
   "outputs": [],
   "source": [
    "test_data = pd.read_csv(\"covid-19-tests-country.csv\")"
   ]
  },
  {
   "cell_type": "code",
   "execution_count": 368,
   "metadata": {},
   "outputs": [
    {
     "data": {
      "text/html": [
       "<div>\n",
       "<style scoped>\n",
       "    .dataframe tbody tr th:only-of-type {\n",
       "        vertical-align: middle;\n",
       "    }\n",
       "\n",
       "    .dataframe tbody tr th {\n",
       "        vertical-align: top;\n",
       "    }\n",
       "\n",
       "    .dataframe thead th {\n",
       "        text-align: right;\n",
       "    }\n",
       "</style>\n",
       "<table border=\"1\" class=\"dataframe\">\n",
       "  <thead>\n",
       "    <tr style=\"text-align: right;\">\n",
       "      <th></th>\n",
       "      <th>Entity</th>\n",
       "      <th>Total COVID-19 tests</th>\n",
       "    </tr>\n",
       "  </thead>\n",
       "  <tbody>\n",
       "    <tr>\n",
       "      <td>0</td>\n",
       "      <td>Armenia</td>\n",
       "      <td>813</td>\n",
       "    </tr>\n",
       "    <tr>\n",
       "      <td>1</td>\n",
       "      <td>Australia</td>\n",
       "      <td>113615</td>\n",
       "    </tr>\n",
       "    <tr>\n",
       "      <td>2</td>\n",
       "      <td>Australia - Australian Capital Territory</td>\n",
       "      <td>2062</td>\n",
       "    </tr>\n",
       "    <tr>\n",
       "      <td>3</td>\n",
       "      <td>Australia - New South Wales</td>\n",
       "      <td>39089</td>\n",
       "    </tr>\n",
       "    <tr>\n",
       "      <td>4</td>\n",
       "      <td>Australia - Queensland</td>\n",
       "      <td>27000</td>\n",
       "    </tr>\n",
       "    <tr>\n",
       "      <td>...</td>\n",
       "      <td>...</td>\n",
       "      <td>...</td>\n",
       "    </tr>\n",
       "    <tr>\n",
       "      <td>73</td>\n",
       "      <td>United Arab Emirates</td>\n",
       "      <td>125000</td>\n",
       "    </tr>\n",
       "    <tr>\n",
       "      <td>74</td>\n",
       "      <td>United Kingdom</td>\n",
       "      <td>64621</td>\n",
       "    </tr>\n",
       "    <tr>\n",
       "      <td>75</td>\n",
       "      <td>United States</td>\n",
       "      <td>103945</td>\n",
       "    </tr>\n",
       "    <tr>\n",
       "      <td>76</td>\n",
       "      <td>United States - CDC samples tested</td>\n",
       "      <td>37646</td>\n",
       "    </tr>\n",
       "    <tr>\n",
       "      <td>77</td>\n",
       "      <td>Vietnam</td>\n",
       "      <td>15637</td>\n",
       "    </tr>\n",
       "  </tbody>\n",
       "</table>\n",
       "<p>78 rows × 2 columns</p>\n",
       "</div>"
      ],
      "text/plain": [
       "                                      Entity  Total COVID-19 tests\n",
       "0                                    Armenia                   813\n",
       "1                                  Australia                113615\n",
       "2   Australia - Australian Capital Territory                  2062\n",
       "3                Australia - New South Wales                 39089\n",
       "4                     Australia - Queensland                 27000\n",
       "..                                       ...                   ...\n",
       "73                      United Arab Emirates                125000\n",
       "74                            United Kingdom                 64621\n",
       "75                             United States                103945\n",
       "76        United States - CDC samples tested                 37646\n",
       "77                                   Vietnam                 15637\n",
       "\n",
       "[78 rows x 2 columns]"
      ]
     },
     "execution_count": 368,
     "metadata": {},
     "output_type": "execute_result"
    }
   ],
   "source": [
    "test_data"
   ]
  },
  {
   "cell_type": "markdown",
   "metadata": {},
   "source": [
    "### 1. Percentage of total test per country"
   ]
  },
  {
   "cell_type": "code",
   "execution_count": 369,
   "metadata": {},
   "outputs": [],
   "source": [
    "test_data = test_data.dropna()\n",
    "test_count = test_data[\"Total COVID-19 tests\"].sum()\n",
    "test_data[\"Test Percentage\"] = round((test_data[\"Total COVID-19 tests\"] *100 / test_count),2)\n",
    "test_data = test_data.sort_values(by='Test Percentage', ascending=False)"
   ]
  },
  {
   "cell_type": "code",
   "execution_count": 370,
   "metadata": {},
   "outputs": [
    {
     "data": {
      "text/plain": [
       "['0%', '2%', '4%', '6%', '8%', '10%', '12%', '14%', '16%', '18%']"
      ]
     },
     "execution_count": 370,
     "metadata": {},
     "output_type": "execute_result"
    }
   ],
   "source": [
    "x_label = [ str(i) + '%' for i in range(20) if i % 2 == 0]\n",
    "x_label "
   ]
  },
  {
   "cell_type": "code",
   "execution_count": 371,
   "metadata": {},
   "outputs": [
    {
     "name": "stderr",
     "output_type": "stream",
     "text": [
      "/Users/Jiyumeng/opt/anaconda3/lib/python3.7/site-packages/ipykernel_launcher.py:2: SettingWithCopyWarning: \n",
      "A value is trying to be set on a copy of a slice from a DataFrame.\n",
      "Try using .loc[row_indexer,col_indexer] = value instead\n",
      "\n",
      "See the caveats in the documentation: http://pandas.pydata.org/pandas-docs/stable/user_guide/indexing.html#returning-a-view-versus-a-copy\n",
      "  \n"
     ]
    },
    {
     "data": {
      "text/plain": [
       "[Text(0, 0, '0%'),\n",
       " Text(0, 0, '2%'),\n",
       " Text(0, 0, '4%'),\n",
       " Text(0, 0, '6%'),\n",
       " Text(0, 0, '8%'),\n",
       " Text(0, 0, '10%'),\n",
       " Text(0, 0, '12%'),\n",
       " Text(0, 0, '14%')]"
      ]
     },
     "execution_count": 371,
     "metadata": {},
     "output_type": "execute_result"
    },
    {
     "data": {
      "image/png": "[encoded data removed]",
      "text/plain": [
       "<Figure size 432x288 with 1 Axes>"
      ]
     },
     "metadata": {
      "needs_background": "light"
     },
     "output_type": "display_data"
    }
   ],
   "source": [
    "test_data_chart = test_data.iloc[:10]\n",
    "test_data_chart[\"x_label\"] = test_data_chart[\"Test Percentage\"].map('{:,.2f}%'.format)\n",
    "test_data_chart.reset_index(drop=True,inplace = True)\n",
    "test_data_chart.set_index([\"x_label\"],inplace=True)\n",
    "ax = test_data_chart.plot.barh(\"Entity\",\"Test Percentage\", title = \"Top 10 Total Tests Country \\n\")\n",
    "ax.set_xticklabels(x_label)"
   ]
  },
  {
   "cell_type": "code",
   "execution_count": 372,
   "metadata": {},
   "outputs": [],
   "source": [
    "new_test_data = test_data.copy()"
   ]
  },
  {
   "cell_type": "code",
   "execution_count": 373,
   "metadata": {},
   "outputs": [
    {
     "data": {
      "text/html": [
       "<div>\n",
       "<style scoped>\n",
       "    .dataframe tbody tr th:only-of-type {\n",
       "        vertical-align: middle;\n",
       "    }\n",
       "\n",
       "    .dataframe tbody tr th {\n",
       "        vertical-align: top;\n",
       "    }\n",
       "\n",
       "    .dataframe thead th {\n",
       "        text-align: right;\n",
       "    }\n",
       "</style>\n",
       "<table border=\"1\" class=\"dataframe\">\n",
       "  <thead>\n",
       "    <tr style=\"text-align: right;\">\n",
       "      <th></th>\n",
       "      <th>Entity</th>\n",
       "      <th>Total COVID-19 tests</th>\n",
       "      <th>Test Percentage</th>\n",
       "    </tr>\n",
       "  </thead>\n",
       "  <tbody>\n",
       "    <tr>\n",
       "      <td>0</td>\n",
       "      <td>China - Guangdong</td>\n",
       "      <td>320000</td>\n",
       "      <td>13.05%</td>\n",
       "    </tr>\n",
       "    <tr>\n",
       "      <td>1</td>\n",
       "      <td>South Korea</td>\n",
       "      <td>316664</td>\n",
       "      <td>12.91%</td>\n",
       "    </tr>\n",
       "    <tr>\n",
       "      <td>2</td>\n",
       "      <td>Italy</td>\n",
       "      <td>206886</td>\n",
       "      <td>8.43%</td>\n",
       "    </tr>\n",
       "    <tr>\n",
       "      <td>3</td>\n",
       "      <td>Germany</td>\n",
       "      <td>167000</td>\n",
       "      <td>6.81%</td>\n",
       "    </tr>\n",
       "    <tr>\n",
       "      <td>4</td>\n",
       "      <td>Russia</td>\n",
       "      <td>143519</td>\n",
       "      <td>5.85%</td>\n",
       "    </tr>\n",
       "    <tr>\n",
       "      <td>5</td>\n",
       "      <td>United Arab Emirates</td>\n",
       "      <td>125000</td>\n",
       "      <td>5.10%</td>\n",
       "    </tr>\n",
       "    <tr>\n",
       "      <td>6</td>\n",
       "      <td>Australia</td>\n",
       "      <td>113615</td>\n",
       "      <td>4.63%</td>\n",
       "    </tr>\n",
       "    <tr>\n",
       "      <td>7</td>\n",
       "      <td>Canada</td>\n",
       "      <td>113121</td>\n",
       "      <td>4.61%</td>\n",
       "    </tr>\n",
       "    <tr>\n",
       "      <td>8</td>\n",
       "      <td>United States</td>\n",
       "      <td>103945</td>\n",
       "      <td>4.24%</td>\n",
       "    </tr>\n",
       "    <tr>\n",
       "      <td>9</td>\n",
       "      <td>Iran</td>\n",
       "      <td>80000</td>\n",
       "      <td>3.26%</td>\n",
       "    </tr>\n",
       "  </tbody>\n",
       "</table>\n",
       "</div>"
      ],
      "text/plain": [
       "                 Entity  Total COVID-19 tests Test Percentage\n",
       "0     China - Guangdong                320000          13.05%\n",
       "1           South Korea                316664          12.91%\n",
       "2                 Italy                206886           8.43%\n",
       "3               Germany                167000           6.81%\n",
       "4                Russia                143519           5.85%\n",
       "5  United Arab Emirates                125000           5.10%\n",
       "6             Australia                113615           4.63%\n",
       "7                Canada                113121           4.61%\n",
       "8         United States                103945           4.24%\n",
       "9                  Iran                 80000           3.26%"
      ]
     },
     "execution_count": 373,
     "metadata": {},
     "output_type": "execute_result"
    }
   ],
   "source": [
    "new_test_data['Test Percentage']  = new_test_data['Test Percentage'].map('{:,.2f}%'.format)\n",
    "new_test_data.reset_index(drop=True,inplace = True)\n",
    "new_test_data.head(10)"
   ]
  },
  {
   "cell_type": "markdown",
   "metadata": {},
   "source": [
    "### 2. Percentage of a thousand people been tested"
   ]
  },
  {
   "cell_type": "code",
   "execution_count": 341,
   "metadata": {},
   "outputs": [],
   "source": [
    "ppl_data = pd.read_csv(\"UN-population-projection-medium-variant.csv\")"
   ]
  },
  {
   "cell_type": "code",
   "execution_count": 342,
   "metadata": {},
   "outputs": [],
   "source": [
    "ppl20 = ppl_data[ppl_data[\"Year\"] == 2020]\n",
    "ppl20 = ppl20.drop(['Estimates, 1950 - 2015: Total population by broad age group, both sexes combined (thousands) - Total'], axis=1)"
   ]
  },
  {
   "cell_type": "code",
   "execution_count": 338,
   "metadata": {},
   "outputs": [
    {
     "data": {
      "text/plain": [
       "['0%', '5%', '10%', '15%', '20%', '25%']"
      ]
     },
     "execution_count": 338,
     "metadata": {},
     "output_type": "execute_result"
    }
   ],
   "source": [
    "chart_x_label = [ str(i) + '%' for i in range(30) if i % 5 == 0]\n",
    "chart_x_label "
   ]
  },
  {
   "cell_type": "code",
   "execution_count": 350,
   "metadata": {},
   "outputs": [
    {
     "name": "stderr",
     "output_type": "stream",
     "text": [
      "/Users/Jiyumeng/opt/anaconda3/lib/python3.7/site-packages/ipykernel_launcher.py:2: SettingWithCopyWarning: \n",
      "A value is trying to be set on a copy of a slice from a DataFrame.\n",
      "Try using .loc[row_indexer,col_indexer] = value instead\n",
      "\n",
      "See the caveats in the documentation: http://pandas.pydata.org/pandas-docs/stable/user_guide/indexing.html#returning-a-view-versus-a-copy\n",
      "  \n"
     ]
    },
    {
     "data": {
      "text/plain": [
       "[Text(0, 0, '0%'),\n",
       " Text(0, 0, '5%'),\n",
       " Text(0, 0, '10%'),\n",
       " Text(0, 0, '15%'),\n",
       " Text(0, 0, '20%'),\n",
       " Text(0, 0, '25%')]"
      ]
     },
     "execution_count": 350,
     "metadata": {},
     "output_type": "execute_result"
    },
    {
     "data": {
      "image/png": "[encoded data removed]",
      "text/plain": [
       "<Figure size 432x288 with 1 Axes>"
      ]
     },
     "metadata": {
      "needs_background": "light"
     },
     "output_type": "display_data"
    }
   ],
   "source": [
    "test_df_chart = test_df.iloc[:10]\n",
    "test_df_chart[\"chart_x_label\"] = test_df_chart[\"Percentage of Test/thousand People\"].map('{:,.2f}%'.format)\n",
    "test_df_chart.reset_index(drop=True,inplace = True)\n",
    "test_df_chart.set_index([\"chart_x_label\"],inplace=True)\n",
    "ax = test_df_chart.plot.barh(\"Entity\",\"Percentage of Test/thousand People\",title = \"Top 10 Percentage of Tests/1000 People \\n\")\n",
    "ax.set_xticklabels(chart_x_label)"
   ]
  },
  {
   "cell_type": "code",
   "execution_count": null,
   "metadata": {},
   "outputs": [],
   "source": [
    "new_test_df_chart = test_df_chart.copy()"
   ]
  },
  {
   "cell_type": "code",
   "execution_count": null,
   "metadata": {},
   "outputs": [],
   "source": [
    "new_test_df_chart['Test Percentage']  = test_df_chart['Percentage of Test/thousand People'].map('{:,.2f}%'.format)\n",
    "new_test_df_chart.reset_index(drop=True,inplace = True)\n",
    "del new_test_df_chart[\"Percentage of Test/thousand People\"]\n",
    "new_test_df_chart.head(10)"
   ]
  },
  {
   "cell_type": "markdown",
   "metadata": {},
   "source": [
    "### 3. Correlation between total tests & confirmed cases"
   ]
  },
  {
   "cell_type": "code",
   "execution_count": 378,
   "metadata": {},
   "outputs": [
    {
     "data": {
      "text/html": [
       "<div>\n",
       "<style scoped>\n",
       "    .dataframe tbody tr th:only-of-type {\n",
       "        vertical-align: middle;\n",
       "    }\n",
       "\n",
       "    .dataframe tbody tr th {\n",
       "        vertical-align: top;\n",
       "    }\n",
       "\n",
       "    .dataframe thead th {\n",
       "        text-align: right;\n",
       "    }\n",
       "</style>\n",
       "<table border=\"1\" class=\"dataframe\">\n",
       "  <thead>\n",
       "    <tr style=\"text-align: right;\">\n",
       "      <th></th>\n",
       "      <th>ObservationDate</th>\n",
       "      <th>Country/Region</th>\n",
       "      <th>Confirmed</th>\n",
       "    </tr>\n",
       "  </thead>\n",
       "  <tbody>\n",
       "    <tr>\n",
       "      <td>0</td>\n",
       "      <td>1/22/20</td>\n",
       "      <td>Mainland China</td>\n",
       "      <td>1</td>\n",
       "    </tr>\n",
       "    <tr>\n",
       "      <td>1</td>\n",
       "      <td>1/22/20</td>\n",
       "      <td>Mainland China</td>\n",
       "      <td>14</td>\n",
       "    </tr>\n",
       "    <tr>\n",
       "      <td>2</td>\n",
       "      <td>1/22/20</td>\n",
       "      <td>Mainland China</td>\n",
       "      <td>6</td>\n",
       "    </tr>\n",
       "    <tr>\n",
       "      <td>3</td>\n",
       "      <td>1/22/20</td>\n",
       "      <td>Mainland China</td>\n",
       "      <td>1</td>\n",
       "    </tr>\n",
       "    <tr>\n",
       "      <td>4</td>\n",
       "      <td>1/22/20</td>\n",
       "      <td>Mainland China</td>\n",
       "      <td>0</td>\n",
       "    </tr>\n",
       "    <tr>\n",
       "      <td>...</td>\n",
       "      <td>...</td>\n",
       "      <td>...</td>\n",
       "      <td>...</td>\n",
       "    </tr>\n",
       "    <tr>\n",
       "      <td>6157</td>\n",
       "      <td>3/16/20</td>\n",
       "      <td>UK</td>\n",
       "      <td>1</td>\n",
       "    </tr>\n",
       "    <tr>\n",
       "      <td>6158</td>\n",
       "      <td>3/16/20</td>\n",
       "      <td>UK</td>\n",
       "      <td>1</td>\n",
       "    </tr>\n",
       "    <tr>\n",
       "      <td>6159</td>\n",
       "      <td>3/16/20</td>\n",
       "      <td>Australia</td>\n",
       "      <td>0</td>\n",
       "    </tr>\n",
       "    <tr>\n",
       "      <td>6160</td>\n",
       "      <td>3/16/20</td>\n",
       "      <td>US</td>\n",
       "      <td>0</td>\n",
       "    </tr>\n",
       "    <tr>\n",
       "      <td>6161</td>\n",
       "      <td>3/16/20</td>\n",
       "      <td>occupied Palestinian territory</td>\n",
       "      <td>0</td>\n",
       "    </tr>\n",
       "  </tbody>\n",
       "</table>\n",
       "<p>6162 rows × 3 columns</p>\n",
       "</div>"
      ],
      "text/plain": [
       "     ObservationDate                  Country/Region  Confirmed\n",
       "0            1/22/20                  Mainland China          1\n",
       "1            1/22/20                  Mainland China         14\n",
       "2            1/22/20                  Mainland China          6\n",
       "3            1/22/20                  Mainland China          1\n",
       "4            1/22/20                  Mainland China          0\n",
       "...              ...                             ...        ...\n",
       "6157         3/16/20                              UK          1\n",
       "6158         3/16/20                              UK          1\n",
       "6159         3/16/20                       Australia          0\n",
       "6160         3/16/20                              US          0\n",
       "6161         3/16/20  occupied Palestinian territory          0\n",
       "\n",
       "[6162 rows x 3 columns]"
      ]
     },
     "execution_count": 378,
     "metadata": {},
     "output_type": "execute_result"
    }
   ],
   "source": [
    "confirmed_case = pd.read_csv(\"covid_19_data.csv\")\n",
    "confirmed_case"
   ]
  },
  {
   "cell_type": "code",
   "execution_count": 421,
   "metadata": {},
   "outputs": [],
   "source": [
    "confirmed_data = confirmed_case.groupby([\"Country/Region\"]).sum()\n",
    "confirmed_data = confirmed_data.sort_values(by='Confirmed', ascending=False)\n",
    "confirmed_data = confirmed_data.dropna()"
   ]
  },
  {
   "cell_type": "code",
   "execution_count": 423,
   "metadata": {},
   "outputs": [],
   "source": [
    "merged_data = test_data.merge(confirmed_data,left_on=\"Entity\",right_on=\"Country/Region\",how=\"left\")\n",
    "top_merged_data  = merged_data.iloc[0:20]"
   ]
  },
  {
   "cell_type": "code",
   "execution_count": 432,
   "metadata": {},
   "outputs": [
    {
     "data": {
      "image/png": "[encoded data removed]",
      "text/plain": [
       "<Figure size 432x288 with 1 Axes>"
      ]
     },
     "metadata": {
      "needs_background": "light"
     },
     "output_type": "display_data"
    }
   ],
   "source": [
    "plt.scatter(top_merged_data[\"Total COVID-19 tests\"],top_merged_data[\"Confirmed\"])\n",
    "# plt.plot(top_merged_data[\"Total COVID-19 tests\"],top_merged_data[\"Confirmed\"],\"--\")\n",
    "plt.xlabel('Total Tests')\n",
    "plt.ylabel(\"Total Confirmed Cases\")\n",
    "plt.show()"
   ]
  }
 ],
 "metadata": {
  "kernelspec": {
   "display_name": "Python 3",
   "language": "python",
   "name": "python3"
  },
  "language_info": {
   "codemirror_mode": {
    "name": "ipython",
    "version": 3
   },
   "file_extension": ".py",
   "mimetype": "text/x-python",
   "name": "python",
   "nbconvert_exporter": "python",
   "pygments_lexer": "ipython3",
   "version": "3.7.4"
  }
 },
 "nbformat": 4,
 "nbformat_minor": 2
}
